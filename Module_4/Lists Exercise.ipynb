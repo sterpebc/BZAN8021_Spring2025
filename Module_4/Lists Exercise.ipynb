{
 "cells": [
  {
   "cell_type": "markdown",
   "metadata": {},
   "source": [
    "# Lists Exercise\n",
    "\n",
    "Do this on paper without using a computer. The result will be a list of instructions for moving on the map, for example, the instruction `('e', 2)` means move two squares to the east.\n",
    "\n",
    "## What to Do:\n",
    "1. Evaluate the final expression: `h(g(f(e(d(c(b(a(2))))))))`\n",
    "1. Determine the contents of the `instructions` list.\n",
    "1. Follow the `instructions` and see which numbered square you land on.\n",
    "1. Write down the contents of the `instructions` list and the square you land on. Bring this to the instructor."
   ]
  },
  {
   "cell_type": "markdown",
   "metadata": {},
   "source": [
    "<img src=\"Lists Exercise.png\" height=\"400\">"
   ]
  },
  {
   "cell_type": "code",
   "execution_count": null,
   "metadata": {},
   "outputs": [],
   "source": [
    "data = [\n",
    "    [1, 2, 3, 4],\n",
    "    ['n', 's', 'e', 'w'],\n",
    "    [\n",
    "        [5, 6, 7],\n",
    "        [7, 8, 9, 10],\n",
    "        [2, 3, ['ab', 'cde', 'fg']]\n",
    "    ]\n",
    "]\n",
    "\n",
    "instructions = []"
   ]
  },
  {
   "cell_type": "code",
   "execution_count": null,
   "metadata": {},
   "outputs": [],
   "source": [
    "def a(n):\n",
    "    instructions.append((data[n-1][n], int(n/2)))\n",
    "    return data[n][n][n][1]\n",
    "\n",
    "def b(n):\n",
    "    b = len(data[len(n) - 3])\n",
    "    c = int(b/2)\n",
    "    d = data[c][c][c].index(n) + len(n)\n",
    "    instructions.append((data[1][1], d))\n",
    "    return data[1][3]\n",
    "\n",
    "def c(n):\n",
    "    t = (n, data[0][len(n) - 1])\n",
    "    instructions.append(t)\n",
    "    return data[1][0:3:2] + [n]\n",
    "\n",
    "def d(n):\n",
    "    x = len(data[2][0])\n",
    "    y = int((data[2][1][:].pop(2) + x) / x)\n",
    "    instructions.append((data[1][1], y - data[1].index(n[1]) + 1))\n",
    "    return n[2]\n",
    "\n",
    "def e(n):\n",
    "    if n < data[2][2][2][2][1]:\n",
    "        instructions.append('n', '5')\n",
    "    else:\n",
    "        x = data[1][data[1].index(n) - 1]\n",
    "        instructions.append((x, 5))\n",
    "    return 3\n",
    "\n",
    "def f(n):\n",
    "    n = n + len(data[2][2][2][0])\n",
    "    instructions.append(('n', n))\n",
    "    return n % 3\n",
    "\n",
    "def g(n):\n",
    "    d = data[n][n][n][0:2][1][n]\n",
    "    instructions.append((d, n-1))\n",
    "    return data[n-1]\n",
    "\n",
    "def h(n):\n",
    "    x = int(len(n) / 2)\n",
    "    instructions.append((n[1], x))\n",
    "    return True\n"
   ]
  },
  {
   "cell_type": "code",
   "execution_count": null,
   "metadata": {},
   "outputs": [],
   "source": [
    "# Evaluate this expression on paper. It will append several values to the instructions list.\n",
    "h(g(f(e(d(c(b(a(2))))))))"
   ]
  }
 ],
 "metadata": {
  "kernelspec": {
   "display_name": "Python 3",
   "language": "python",
   "name": "python3"
  },
  "language_info": {
   "codemirror_mode": {
    "name": "ipython",
    "version": 3
   },
   "file_extension": ".py",
   "mimetype": "text/x-python",
   "name": "python",
   "nbconvert_exporter": "python",
   "pygments_lexer": "ipython3",
   "version": "3.12.1"
  }
 },
 "nbformat": 4,
 "nbformat_minor": 2
}
