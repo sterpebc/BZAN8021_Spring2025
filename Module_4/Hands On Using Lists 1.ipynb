{
 "cells": [
  {
   "cell_type": "markdown",
   "id": "cbbf97f7-58a3-4891-9733-cf2887b580ea",
   "metadata": {},
   "source": [
    "# Hands On Using Lists 1"
   ]
  },
  {
   "cell_type": "markdown",
   "id": "c83d9767-506a-4f90-8d8f-28fa7001a3be",
   "metadata": {},
   "source": [
    "### Create an empty list and assign it to a variable named _x_"
   ]
  },
  {
   "cell_type": "code",
   "execution_count": null,
   "id": "7cc245bb-7fe4-416b-975f-5d7493f8b5fb",
   "metadata": {},
   "outputs": [],
   "source": []
  },
  {
   "cell_type": "markdown",
   "id": "b68f027e-1abc-4415-9d6e-1c11eab12727",
   "metadata": {},
   "source": [
    "### Create a list containing the weekday names and assign it to a variable named _days_"
   ]
  },
  {
   "cell_type": "code",
   "execution_count": null,
   "id": "d626094e-642a-472b-8ff9-993cf010a05b",
   "metadata": {},
   "outputs": [],
   "source": []
  },
  {
   "cell_type": "markdown",
   "id": "115df00a-fa62-4c1e-9091-08f58fe4d0e8",
   "metadata": {},
   "source": [
    "### Write an expression using _days_ that would evaluate to `'Wednesday'`"
   ]
  },
  {
   "cell_type": "code",
   "execution_count": null,
   "id": "9d083a2c-9e8e-4d83-82bf-02e4f90e4ee4",
   "metadata": {},
   "outputs": [],
   "source": []
  },
  {
   "cell_type": "markdown",
   "id": "7f594e7b-8168-4078-9a1f-aa022a7c819d",
   "metadata": {},
   "source": [
    "### Write an expression to obtain the number of elements in _days_"
   ]
  },
  {
   "cell_type": "code",
   "execution_count": null,
   "id": "b2f1a9ce-0bf0-4642-b72f-56334384f8ce",
   "metadata": {},
   "outputs": [],
   "source": []
  },
  {
   "cell_type": "markdown",
   "id": "76033785-aa69-4d67-ba7c-302d855ff25a",
   "metadata": {},
   "source": [
    "### Write an expression to obtain the last element in _days_ without knowing how long the list is"
   ]
  },
  {
   "cell_type": "code",
   "execution_count": null,
   "id": "08005861-850e-478a-b4ef-0d8cebcfa123",
   "metadata": {},
   "outputs": [],
   "source": []
  },
  {
   "cell_type": "markdown",
   "id": "9c050824-18cb-48de-90c4-70342c55a021",
   "metadata": {},
   "source": [
    "### Write an expression to change the `'Friday'` element in _days_ to read `'TGIF'`. You may hardcode the index of this element."
   ]
  },
  {
   "cell_type": "code",
   "execution_count": null,
   "id": "0151e49b-0bde-463d-8bb2-e2a6e82639cb",
   "metadata": {},
   "outputs": [],
   "source": []
  },
  {
   "cell_type": "markdown",
   "id": "815ed48c-aeac-49d1-96a5-0f9841101ae6",
   "metadata": {
    "tags": []
   },
   "source": [
    "### What would this expression evaluate to?\n",
    "```\n",
    "days[0][0:3]\n",
    "```"
   ]
  },
  {
   "cell_type": "markdown",
   "id": "8a4be4d1-9217-4179-89d2-c5664d91ccf3",
   "metadata": {},
   "source": []
  },
  {
   "cell_type": "markdown",
   "id": "6174231a-2a40-4ba9-9eee-6e3512426254",
   "metadata": {},
   "source": [
    "(This is a text/Markdown cell.)"
   ]
  },
  {
   "cell_type": "markdown",
   "id": "62a932a8-5283-46e0-8ac3-6d13255219b6",
   "metadata": {},
   "source": [
    "### What would this code print?\n",
    "```\n",
    "n = len(days)\n",
    "print(days[n-1])\n",
    "```"
   ]
  },
  {
   "cell_type": "markdown",
   "id": "44125261-bdd5-4b83-8013-0114cbd18fa8",
   "metadata": {},
   "source": []
  },
  {
   "cell_type": "markdown",
   "id": "fe7949ca-8711-4166-a84d-a28696480911",
   "metadata": {},
   "source": [
    "(This is a text/Markdown cell.)"
   ]
  },
  {
   "cell_type": "markdown",
   "id": "eb5a8f32-5a55-41c7-a868-245a8286be1b",
   "metadata": {},
   "source": [
    "### The code in the preceding question points out a relationship between the length of a list and its highest index. What is this?"
   ]
  },
  {
   "cell_type": "markdown",
   "id": "192968d1-2822-474f-bbfd-c454c2dcf2a9",
   "metadata": {},
   "source": []
  },
  {
   "cell_type": "markdown",
   "id": "46a6f50c-bda4-4155-8d3d-ae1ff1f3359f",
   "metadata": {},
   "source": [
    "(This is a text/Markdown cell.)"
   ]
  },
  {
   "cell_type": "markdown",
   "id": "be2f0bb3-2836-48c1-9536-cf6d6d891c06",
   "metadata": {},
   "source": [
    "### Before running the code in the next cell, try to predict what it will print."
   ]
  },
  {
   "cell_type": "code",
   "execution_count": null,
   "id": "f99f4ca5-8234-4452-95c0-a4c34abea2fe",
   "metadata": {},
   "outputs": [],
   "source": [
    "l1 = ['abc', 3, 'def', 1.89]\n",
    "l2 = l1\n",
    "l1[3] = 2.89\n",
    "print(l2[3])"
   ]
  },
  {
   "cell_type": "markdown",
   "id": "5dd049df-a93a-47a9-a3c1-d06cffa68b02",
   "metadata": {},
   "source": [
    "### Before running the code in the next cell, try to predict what it will print."
   ]
  },
  {
   "cell_type": "code",
   "execution_count": null,
   "id": "31b82d97-5306-4c22-9b03-1cb4309def5e",
   "metadata": {},
   "outputs": [],
   "source": [
    "l3 = [9, 8, 7, 6]\n",
    "l4 = l3\n",
    "l4[2] = 'bananas'\n",
    "print(l3)"
   ]
  },
  {
   "cell_type": "markdown",
   "id": "8af05c11-bc25-41c2-a1ea-4c81fd10bdd4",
   "metadata": {},
   "source": [
    "### After this code runs, what would be the value of _t_?\n",
    "```\n",
    "t = ''\n",
    "t = t + 'Python'\n",
    "```"
   ]
  },
  {
   "cell_type": "markdown",
   "id": "932ade68-29c9-4ad7-8896-c589f280199b",
   "metadata": {},
   "source": [
    "### And what would _t_ be after this code runs?\n",
    "```\n",
    "t = t + t\n",
    "```"
   ]
  },
  {
   "cell_type": "markdown",
   "id": "80ec87a0-7983-4522-9122-e0937d18515b",
   "metadata": {},
   "source": [
    "### What would this evaluate to?\n",
    "```\n",
    "t[0:6]\n",
    "```"
   ]
  },
  {
   "cell_type": "markdown",
   "id": "13015471-7091-4bf9-b021-7b14b0e36ab6",
   "metadata": {},
   "source": []
  },
  {
   "cell_type": "markdown",
   "id": "e6b3266c-a055-4627-ae87-77f318833ab0",
   "metadata": {},
   "source": [
    "### Write an expression that would evaluate to a string consisting of the _second_ `Python` in _t_. You may hardcode index numbers."
   ]
  },
  {
   "cell_type": "code",
   "execution_count": null,
   "id": "985fc721-338a-419f-a456-076b65c936d7",
   "metadata": {},
   "outputs": [],
   "source": []
  },
  {
   "cell_type": "markdown",
   "id": "87907888-ba15-4cc6-9294-2a9fd39643a0",
   "metadata": {},
   "source": [
    "### Will this work? Why or why not?\n",
    "```\n",
    "t[0] = 'X'\n",
    "```"
   ]
  },
  {
   "cell_type": "markdown",
   "id": "3bb33a7c-ee05-4ffb-ab02-c917ced47498",
   "metadata": {},
   "source": []
  },
  {
   "cell_type": "markdown",
   "id": "05cf353d-964b-4e46-8329-afed9dd99422",
   "metadata": {},
   "source": [
    "(This is a text/Markdown cell.)"
   ]
  },
  {
   "cell_type": "markdown",
   "id": "a55bbb15-ba51-4a57-a080-30e3fe3ba4ba",
   "metadata": {},
   "source": [
    "### **Challenge** Using the variables in the code cell below, add code to create a new variable, `w3`, whose value is the string`'winter'`. Do not edit the existing code; just add your own."
   ]
  },
  {
   "cell_type": "code",
   "execution_count": null,
   "id": "df02ff9e-4aed-40c3-9fbe-e6d45e56aa69",
   "metadata": {},
   "outputs": [],
   "source": [
    "w1 = 'Drink plenty of water'\n",
    "w2 = 'You win'"
   ]
  }
 ],
 "metadata": {
  "kernelspec": {
   "display_name": "Python 3 (ipykernel)",
   "language": "python",
   "name": "python3"
  },
  "language_info": {
   "codemirror_mode": {
    "name": "ipython",
    "version": 3
   },
   "file_extension": ".py",
   "mimetype": "text/x-python",
   "name": "python",
   "nbconvert_exporter": "python",
   "pygments_lexer": "ipython3",
   "version": "3.9.12"
  }
 },
 "nbformat": 4,
 "nbformat_minor": 5
}
