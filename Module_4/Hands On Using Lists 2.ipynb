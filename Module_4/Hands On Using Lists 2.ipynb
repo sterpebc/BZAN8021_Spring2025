{
 "cells": [
  {
   "cell_type": "markdown",
   "id": "cbbf97f7-58a3-4891-9733-cf2887b580ea",
   "metadata": {},
   "source": [
    "# Hands On Using Lists 2"
   ]
  },
  {
   "cell_type": "markdown",
   "id": "c83d9767-506a-4f90-8d8f-28fa7001a3be",
   "metadata": {},
   "source": [
    "### The string below has sections, conceptually. What string delimits each section? Use the `split` method on the string below -- you decide what the delimiter should be. Assign the result to a variable named `product_data`. Add your code to the cell below."
   ]
  },
  {
   "cell_type": "code",
   "execution_count": null,
   "id": "7cc245bb-7fe4-416b-975f-5d7493f8b5fb",
   "metadata": {},
   "outputs": [],
   "source": [
    "product = 'Part Number:20376,Lava Lamp,39.99'\n"
   ]
  },
  {
   "cell_type": "markdown",
   "id": "4206a862-a8fb-4c86-868b-88282cc311c5",
   "metadata": {},
   "source": [
    "### Using the `product_data` variable you just created, write 1 line of code to print the name of the product."
   ]
  },
  {
   "cell_type": "code",
   "execution_count": null,
   "id": "98eb42fd-e878-41f5-8010-24537983fdf8",
   "metadata": {},
   "outputs": [],
   "source": []
  },
  {
   "cell_type": "markdown",
   "id": "819654b8-f592-4ffa-b047-3d883f99d535",
   "metadata": {},
   "source": [
    "### Using the `product_data` variable above, write 1 line of code to print the price."
   ]
  },
  {
   "cell_type": "code",
   "execution_count": null,
   "id": "fee1abae-3755-424f-a5de-f39e4058de79",
   "metadata": {},
   "outputs": [],
   "source": []
  },
  {
   "cell_type": "markdown",
   "id": "4acb053f-d5da-4451-8ecc-05c2ad86ec28",
   "metadata": {},
   "source": [
    "### Using the `product_data` variable above, write code to print the part number _without_ the \"Part Number:\" prefix. Do not assume that all part numbers will contain 5 digits. A part number could be longer or shorter."
   ]
  },
  {
   "cell_type": "code",
   "execution_count": null,
   "id": "bb8c1fc4-b50d-4ca3-89d2-4b5eee1ae988",
   "metadata": {},
   "outputs": [],
   "source": []
  },
  {
   "cell_type": "markdown",
   "id": "2b66827b-00ba-443d-b631-c387f61b1f47",
   "metadata": {},
   "source": [
    "### In the cell below, write code to:\n",
    "* Create an empty list.\n",
    "* Append the following values to the list. Do these one at a time using a separate statement for each. Values to append:\n",
    "  * `7*6`\n",
    "  * `'hello, world'`\n",
    "  * `21/5`\n",
    "  * `'abc' + 'def'`\n",
    "* Print your list\n",
    "* Print the first and last elements of your list on the same line separated by `...`"
   ]
  },
  {
   "cell_type": "code",
   "execution_count": null,
   "id": "1f49ad99-7153-4018-80f2-b72ce5c9207d",
   "metadata": {},
   "outputs": [],
   "source": []
  }
 ],
 "metadata": {
  "kernelspec": {
   "display_name": "Python 3 (ipykernel)",
   "language": "python",
   "name": "python3"
  },
  "language_info": {
   "codemirror_mode": {
    "name": "ipython",
    "version": 3
   },
   "file_extension": ".py",
   "mimetype": "text/x-python",
   "name": "python",
   "nbconvert_exporter": "python",
   "pygments_lexer": "ipython3",
   "version": "3.9.12"
  }
 },
 "nbformat": 4,
 "nbformat_minor": 5
}
