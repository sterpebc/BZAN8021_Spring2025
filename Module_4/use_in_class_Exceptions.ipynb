{
 "cells": [
  {
   "cell_type": "code",
   "execution_count": null,
   "metadata": {},
   "outputs": [],
   "source": [
    "numerator = float(input('Give me a numerator: '))\n",
    "denominator = float(input('Give me a denominator: '))\n",
    "quotient = numerator / denominator\n",
    "print('The quotient is', quotient)"
   ]
  },
  {
   "cell_type": "code",
   "execution_count": null,
   "metadata": {
    "jupyter": {
     "source_hidden": true
    }
   },
   "outputs": [],
   "source": [
    "try:\n",
    "    numerator = float(input('Give me a numerator: '))\n",
    "    denominator = float(input('Give me a denominator: '))\n",
    "    quotient = numerator / denominator\n",
    "    print('The quotient is', quotient)\n",
    "except:\n",
    "    print('Something went wrong. Sorry. Really.')"
   ]
  },
  {
   "cell_type": "code",
   "execution_count": null,
   "metadata": {
    "jupyter": {
     "source_hidden": true
    }
   },
   "outputs": [],
   "source": [
    "try:\n",
    "    numerator = float(input('Give me a numerator: '))\n",
    "    denominator = float(input('Give me a denominator: '))\n",
    "    quotient = numerator / denominator\n",
    "    print('The quotient is', quotient)\n",
    "except ValueError:\n",
    "    print('Your numerator or denominator is not a number')\n",
    "except ZeroDivisionError:\n",
    "    print('No can divide by zero')\n",
    "\n",
    "print('This is after')"
   ]
  },
  {
   "cell_type": "markdown",
   "metadata": {
    "jupyter": {
     "source_hidden": true
    }
   },
   "source": [
    "## You can use try/except to _assume_ an operation will work and then deal with it if you received a data type that isn't quite right."
   ]
  },
  {
   "cell_type": "code",
   "execution_count": null,
   "metadata": {
    "jupyter": {
     "source_hidden": true
    }
   },
   "outputs": [],
   "source": [
    "# What does this function do?\n",
    "# What does it assume about its argument?\n",
    "def countUnderThree(arg):\n",
    "    count = 0\n",
    "\n",
    "    for element in arg:\n",
    "        if element < 3:\n",
    "            count = count + 1\n",
    "\n",
    "    return count"
   ]
  },
  {
   "cell_type": "code",
   "execution_count": null,
   "metadata": {
    "jupyter": {
     "source_hidden": true
    }
   },
   "outputs": [],
   "source": [
    "# If we call countUnderThree with a list of numbers, everything works fine\n",
    "numUnderThree = countUnderThree([1,2,3,4,5])\n",
    "print('There were', numUnderThree, 'numbers under three.')"
   ]
  },
  {
   "cell_type": "code",
   "execution_count": null,
   "metadata": {
    "jupyter": {
     "source_hidden": true
    }
   },
   "outputs": [],
   "source": [
    "# But what if we pass a list that contains some strings?\n",
    "numUnderThree = countUnderThree([1,2,'peanut butter',4,'chocolate'])\n",
    "print('There were', numUnderThree, 'numbers under three.')"
   ]
  },
  {
   "cell_type": "markdown",
   "metadata": {
    "jupyter": {
     "source_hidden": true
    }
   },
   "source": [
    "## Can we write countUnderThree to be more robust?"
   ]
  },
  {
   "cell_type": "code",
   "execution_count": 1,
   "metadata": {
    "jupyter": {
     "source_hidden": true
    }
   },
   "outputs": [],
   "source": [
    "def countUnderThree_v2(arg):\n",
    "    count = 0\n",
    "\n",
    "    for element in arg:\n",
    "        try:\n",
    "            if element < 3:\n",
    "                count = count + 1\n",
    "        except:\n",
    "            print(f'Skipping {element}')\n",
    "\n",
    "    return count"
   ]
  },
  {
   "cell_type": "code",
   "execution_count": null,
   "metadata": {
    "jupyter": {
     "source_hidden": true
    }
   },
   "outputs": [],
   "source": [
    "# Now call our more robust version\n",
    "numUnderThree = countUnderThree_v2([1,2,'N/A',4,'N/A'])\n",
    "print('There were', numUnderThree,'numbers under three.')"
   ]
  }
 ],
 "metadata": {
  "kernelspec": {
   "display_name": "Python 3",
   "language": "python",
   "name": "python3"
  },
  "language_info": {
   "codemirror_mode": {
    "name": "ipython",
    "version": 3
   },
   "file_extension": ".py",
   "mimetype": "text/x-python",
   "name": "python",
   "nbconvert_exporter": "python",
   "pygments_lexer": "ipython3",
   "version": "3.7.6"
  }
 },
 "nbformat": 4,
 "nbformat_minor": 4
}
