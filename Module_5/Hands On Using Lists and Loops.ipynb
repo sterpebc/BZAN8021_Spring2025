{
 "cells": [
  {
   "cell_type": "markdown",
   "id": "d3afb078-ef49-43b1-bd02-21f04005db86",
   "metadata": {},
   "source": [
    "# Hands on With Lists and Loops"
   ]
  },
  {
   "cell_type": "markdown",
   "id": "f52d1cd0-38cf-4863-a0fe-6f92b37afa98",
   "metadata": {},
   "source": [
    "## 1. The _running count_ pattern"
   ]
  },
  {
   "cell_type": "code",
   "execution_count": null,
   "id": "84da7824-a837-47c5-9687-02e79652e09d",
   "metadata": {},
   "outputs": [],
   "source": [
    "# Write code to count the four-letter words and print the answer\n",
    "words = ['apple', 'Python', 'bank', 'coffee', 'cash', 'luck']"
   ]
  },
  {
   "cell_type": "code",
   "execution_count": null,
   "id": "e843b6ed-5852-42b5-b86e-c26758735e0d",
   "metadata": {},
   "outputs": [],
   "source": []
  },
  {
   "cell_type": "markdown",
   "id": "67526bec-5b9d-4daf-a2b7-f3859f1d54db",
   "metadata": {},
   "source": [
    "## 2. The _running sum_ pattern"
   ]
  },
  {
   "cell_type": "code",
   "execution_count": null,
   "id": "65f2db69-0fcd-4995-aac1-10dd8c5cf991",
   "metadata": {},
   "outputs": [],
   "source": [
    "# Write code to sum the scores that aren't N/A\n",
    "scores = [89, 92, 'N/A', 78, 85, 91, 84, 'N/A', 90]"
   ]
  },
  {
   "cell_type": "code",
   "execution_count": null,
   "id": "f6f7c27b-136c-4c24-80de-42db833690ac",
   "metadata": {},
   "outputs": [],
   "source": []
  },
  {
   "cell_type": "markdown",
   "id": "28330519-d9b3-4361-88a2-391d90959017",
   "metadata": {},
   "source": [
    "## 3. Combining the patterns"
   ]
  },
  {
   "cell_type": "code",
   "execution_count": null,
   "id": "c65a34dd-de7d-4728-93fd-18b2072e285f",
   "metadata": {},
   "outputs": [],
   "source": [
    "# Using the `scores` list above, write code to average the scores that aren't N/A\n",
    "\n",
    "# Your code goes here"
   ]
  },
  {
   "cell_type": "markdown",
   "id": "f74c0385-6151-4a73-8eb4-a997aea0dad7",
   "metadata": {},
   "source": [
    "## 4. Doing Something _n_ Times"
   ]
  },
  {
   "cell_type": "markdown",
   "id": "fc26e3a1",
   "metadata": {},
   "source": [
    "### Python has a module named `random` that you can import. It contains many functions to generate random numbers.\n",
    "### In the `random` module, the function `randint(low, high)` returns a random integer between `low` and `high`, inclusive."
   ]
  },
  {
   "cell_type": "code",
   "execution_count": null,
   "id": "c3d2595e-012a-4344-9a54-879e8fcdb144",
   "metadata": {},
   "outputs": [],
   "source": [
    "# Write a loop to print 5 random integers between 1 and 10. Try to make the number of integers to print\n",
    "# be a variable so that, of you change this variable, your code will generate that number of integers.\n",
    "\n",
    "from random import randint\n",
    "\n",
    "# Your code goes here..."
   ]
  },
  {
   "cell_type": "markdown",
   "id": "ca97e063-db05-4752-a395-a22cbfc1bbde",
   "metadata": {},
   "source": [
    "## 5. Counting Results"
   ]
  },
  {
   "cell_type": "code",
   "execution_count": null,
   "id": "d2fc4f50-22d1-40a5-b60f-adfe7161d118",
   "metadata": {},
   "outputs": [],
   "source": [
    "# Generate 1000 random integers between 1 and 10, inclusive,\n",
    "# and count how many are 7 or higher.\n",
    "\n",
    "# Your code goes here"
   ]
  },
  {
   "cell_type": "markdown",
   "id": "2e43f885-3305-4136-8f1f-c2ed4cce9576",
   "metadata": {},
   "source": [
    "## 6. Accumulating Results"
   ]
  },
  {
   "cell_type": "code",
   "execution_count": null,
   "id": "fb88dadc-3960-46cb-9d93-3a558c6243c5",
   "metadata": {},
   "outputs": [],
   "source": [
    "# Create a list containing the four-letter words,\n",
    "# then print the list.\n",
    "words = ['apple', 'Python', 'bank', 'coffee', 'cash', 'luck']"
   ]
  },
  {
   "cell_type": "code",
   "execution_count": null,
   "id": "59241603-7069-4944-a40c-c294d4d61041",
   "metadata": {},
   "outputs": [],
   "source": [
    "# Create a list containing the four-letter words,\n",
    "\n",
    "# Your code goes here"
   ]
  },
  {
   "cell_type": "markdown",
   "id": "1eddee34-33a4-4929-8210-e5eb01177664",
   "metadata": {},
   "source": [
    "## 7. Accumulating Results"
   ]
  },
  {
   "cell_type": "code",
   "execution_count": null,
   "id": "152e60e7-9f11-4c3c-8e6f-79f0866fcd15",
   "metadata": {},
   "outputs": [],
   "source": [
    "# Build a list of 25 random integers between 1 and 5\n",
    "\n",
    "# Your code goes here\n"
   ]
  },
  {
   "cell_type": "markdown",
   "id": "c7e9c6b6-cde4-4714-85e9-2c8c0e711453",
   "metadata": {},
   "source": [
    "## 7a. Add to your code: calculate the average of the 25 numbers"
   ]
  },
  {
   "cell_type": "markdown",
   "id": "ce414a4e-2b10-49dd-94f7-391eee5e0d8e",
   "metadata": {},
   "source": [
    "## 7b. Add to your code: build a list of the numbers that are above the average"
   ]
  },
  {
   "cell_type": "markdown",
   "id": "299b0729-788c-413d-8dd5-95f0141668aa",
   "metadata": {},
   "source": [
    "## Challenge\n",
    "\n",
    "Make a list of the home sale prices that are more than 25% from the median sale price. Python can calculate the median for you. Import the _statistics_ module, and from it, call `statistics.median`. For example:\n",
    "```\n",
    "import statistics\n",
    "\n",
    "numbers = [1, 2, 3, 4, 5]\n",
    "median = statistics.median(numbers)\n",
    "print(f'The median is {median}')\n",
    "```"
   ]
  },
  {
   "cell_type": "code",
   "execution_count": null,
   "id": "34087cde-cf00-4788-81c8-569cae9f69bf",
   "metadata": {},
   "outputs": [],
   "source": [
    "# Assume sale prices are in $1000's\n",
    "import statistics   # So we can call statistics.median()\n",
    "\n",
    "sale_prices = [220.4, 187.0, 242.6, 179.9, 110.5, 190.1, 275.9]\n",
    "\n",
    "# Remaining code goes here..."
   ]
  }
 ],
 "metadata": {
  "kernelspec": {
   "display_name": "Python 3 (ipykernel)",
   "language": "python",
   "name": "python3"
  },
  "language_info": {
   "codemirror_mode": {
    "name": "ipython",
    "version": 3
   },
   "file_extension": ".py",
   "mimetype": "text/x-python",
   "name": "python",
   "nbconvert_exporter": "python",
   "pygments_lexer": "ipython3",
   "version": "3.11.3"
  }
 },
 "nbformat": 4,
 "nbformat_minor": 5
}
