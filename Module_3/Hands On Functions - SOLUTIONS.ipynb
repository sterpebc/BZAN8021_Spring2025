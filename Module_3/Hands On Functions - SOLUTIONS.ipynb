{
 "cells": [
  {
   "cell_type": "markdown",
   "id": "665f49f6-2907-4fe2-be3c-9f128c51ce77",
   "metadata": {},
   "source": [
    "# Hands On with Functions"
   ]
  },
  {
   "cell_type": "markdown",
   "id": "eda9b920-0830-48e9-8af5-c453fb7fc0c2",
   "metadata": {},
   "source": [
    "## Use Someone Else's Function\n",
    "\n",
    "The code cell below contains a function. Run the cell so that the function exists. Then, in the cell below that, write some code to:\n",
    "* call the function and assign the returned value to a variable named _result_\n",
    "* print the value of _result_\n",
    "\n",
    "When you call the function, give it any number as the argument."
   ]
  },
  {
   "cell_type": "code",
   "execution_count": null,
   "id": "b7f49e7f-710a-441a-894f-dff5537ed6a3",
   "metadata": {},
   "outputs": [],
   "source": [
    "def f(n):\n",
    "    return n**2"
   ]
  },
  {
   "cell_type": "code",
   "execution_count": null,
   "id": "1acfdc1a-6f30-4836-b168-8683db676a44",
   "metadata": {},
   "outputs": [],
   "source": [
    "result = f(4)\n",
    "print(result)"
   ]
  },
  {
   "cell_type": "markdown",
   "id": "04a783ae-2a38-4e6b-8876-e181559a501d",
   "metadata": {},
   "source": [
    "The code cell below contains another function. Run the cell so that the function exists. Then, in the cell below that, write some code to:\n",
    "* call function _g_ and assign the returned value to a variable named _v1_\n",
    "* call function _f_ (from above) passing _v1_ as the argument; assign the returned value to _v2_\n",
    "* print _v2_"
   ]
  },
  {
   "cell_type": "code",
   "execution_count": null,
   "id": "51e0d58d-99a9-4752-ab69-8cab3bb95662",
   "metadata": {},
   "outputs": [],
   "source": [
    "def g(x):\n",
    "    return x + 5"
   ]
  },
  {
   "cell_type": "code",
   "execution_count": null,
   "id": "dcb3588a-15da-47b2-9574-bf474fb9d048",
   "metadata": {},
   "outputs": [],
   "source": [
    "v1 = g(7)\n",
    "v2 = f(v1)\n",
    "print(v2)"
   ]
  },
  {
   "cell_type": "markdown",
   "id": "2ba3a5c6-1d53-4755-8785-3eea99e7db92",
   "metadata": {},
   "source": [
    "## Use a Function in an Expression\n",
    "\n",
    "The code cell below contains a function that returns a random number. Run the cell so that the function exists. Then, in the cell below that, write some code to:\n",
    "* call the function and assign the returned value to a variable named _r_\n",
    "* determine if _r_ is greater than 50\n",
    "  * if it is, print _r is greater than 50_\n",
    "  * otherwise, print _r is not greater than 50_"
   ]
  },
  {
   "cell_type": "code",
   "execution_count": null,
   "id": "e2a5a250-0de9-40da-b72b-4395749493e0",
   "metadata": {},
   "outputs": [],
   "source": [
    "from random import randint\n",
    "def rando():\n",
    "    return randint(1, 100)"
   ]
  },
  {
   "cell_type": "code",
   "execution_count": null,
   "id": "a5d2cd88-2a75-4898-aba3-3965ae2ea220",
   "metadata": {},
   "outputs": [],
   "source": [
    "r = rando()\n",
    "if r > 50:\n",
    "    print('r is greater than 50')\n",
    "else:\n",
    "    print('r is not greater than 50')"
   ]
  },
  {
   "cell_type": "markdown",
   "id": "d8af8f2f-4dc0-4a4c-ad08-2f54abef7067",
   "metadata": {},
   "source": [
    "## Write Your Own Function\n",
    "In the code cell below, define a function named _halve_ that takes one argument. Your function should return the argument divided by 2."
   ]
  },
  {
   "cell_type": "code",
   "execution_count": null,
   "id": "d8e17a1e-401d-4c03-8673-1c253030a53c",
   "metadata": {},
   "outputs": [],
   "source": [
    "def halve(arg):\n",
    "    return arg / 2"
   ]
  },
  {
   "cell_type": "markdown",
   "id": "eb4d356c-455d-4d44-8fe1-aa738c02025e",
   "metadata": {},
   "source": [
    "In the code cell below, define a function named _add_ that takes two arguments. Your function should return the sum of the arguments."
   ]
  },
  {
   "cell_type": "code",
   "execution_count": null,
   "id": "42745cc5-9afb-4d5a-8f0b-49fd8e54513d",
   "metadata": {},
   "outputs": [],
   "source": [
    "def add(x, y):\n",
    "    return x + y"
   ]
  },
  {
   "cell_type": "markdown",
   "id": "0015a438-6048-47da-b848-e59dfdbf72df",
   "metadata": {},
   "source": [
    "## Challenge\n",
    "In the code cell below, define a function named _greater_ that takes two arguments. Your function should return the greater of the two arguments. If the arguments are equal, your function can return either of them."
   ]
  },
  {
   "cell_type": "code",
   "execution_count": null,
   "id": "9d9ffc66-9c1a-4bec-8356-9e2b529f4e68",
   "metadata": {},
   "outputs": [],
   "source": [
    "def greater(x, y):\n",
    "    if x > y:\n",
    "        return x\n",
    "    else:\n",
    "        return y"
   ]
  },
  {
   "cell_type": "code",
   "execution_count": null,
   "id": "8e8f52c8-5712-4cd8-b6a0-bf59b2a50262",
   "metadata": {},
   "outputs": [],
   "source": [
    "# Another way\n",
    "def greater(x, y):\n",
    "    if x > y:\n",
    "        return x\n",
    "    elif x < y:\n",
    "        return y\n",
    "    else:\n",
    "        return y"
   ]
  }
 ],
 "metadata": {
  "kernelspec": {
   "display_name": "Python 3 (ipykernel)",
   "language": "python",
   "name": "python3"
  },
  "language_info": {
   "codemirror_mode": {
    "name": "ipython",
    "version": 3
   },
   "file_extension": ".py",
   "mimetype": "text/x-python",
   "name": "python",
   "nbconvert_exporter": "python",
   "pygments_lexer": "ipython3",
   "version": "3.9.7"
  }
 },
 "nbformat": 4,
 "nbformat_minor": 5
}
