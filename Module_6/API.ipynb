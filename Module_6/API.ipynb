{
 "cells": [
  {
   "cell_type": "markdown",
   "metadata": {},
   "source": [
    "# Hands On: Internet APIs with Python"
   ]
  },
  {
   "cell_type": "markdown",
   "metadata": {},
   "source": [
    "In this hands on, you'll write code to retrieve data from [Finnhub.io](https://finnhub.io), a site that serves up financial data. You will gain some experience writing Python that is Internet-enabled, and you'll get to work a bit with JSON."
   ]
  },
  {
   "cell_type": "markdown",
   "metadata": {},
   "source": [
    "## Step 1 -- Get a Finnhub.io API Key\n",
    "We'll get our data from Finnhub.io. Access is free, but you first have to get a _key_ that will let you use their API. You then include your key in every request you make.\n",
    "\n",
    "1. Go to [https://finnhub.io](https://finnhub.io)\n",
    "1. Click on `Get free API Key`. You will be asked to create a (free) account.\n",
    "1. After you create your account, the page you land on will show your API Key."
   ]
  },
  {
   "cell_type": "markdown",
   "metadata": {},
   "source": [
    "## Step 2 -- Write Code\n",
    "In this step, you will use the [Stock Quote API](https://finnhub.io/docs/api#quote) to get a stock quote for a company. Write a function named `quote` that takes one string parameter, a stock ticker symbol. Your function should use the Finnhub API to get a quote for the given ticker. It should then return a Python dictionary having the following format:\n",
    "```\n",
    "{\n",
    "  'open': 12.34,\n",
    "  'close': 12.89,\n",
    "  'movement': 'UP'\n",
    "}\n",
    "```\n",
    "\n",
    "The dictionary you return should have three keys: `open`, `close`, and `movement`. The value of the `open` key should be the stock's opening price as a float. Similarly, the value of the `close` key should be the stock's closing price as a float. The value of the `movement` key should be the string `'UP'` if the stock closed higher than it opened, `'DOWN'` if the stock closed lower than it opened, or `'FLAT'` if the stock closed at the opening price."
   ]
  }
 ],
 "metadata": {
  "kernelspec": {
   "display_name": "Python 3 (ipykernel)",
   "language": "python",
   "name": "python3"
  },
  "language_info": {
   "codemirror_mode": {
    "name": "ipython",
    "version": 3
   },
   "file_extension": ".py",
   "mimetype": "text/x-python",
   "name": "python",
   "nbconvert_exporter": "python",
   "pygments_lexer": "ipython3",
   "version": "3.9.12"
  }
 },
 "nbformat": 4,
 "nbformat_minor": 4
}
