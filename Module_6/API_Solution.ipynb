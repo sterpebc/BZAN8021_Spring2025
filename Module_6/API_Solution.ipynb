{
 "cells": [
  {
   "cell_type": "code",
   "execution_count": null,
   "id": "b4ac17d7-f31f-441e-8404-89ef0b3c9589",
   "metadata": {},
   "outputs": [],
   "source": [
    "import requests\n",
    "\n",
    "def quote(ticker):\n",
    "    base_URI = 'https://finnhub.io/api/v1/quote'\n",
    "    params = {'symbol': ticker, 'token': 'bqgomgfrh5r8lcmqaa50'}\n",
    "\n",
    "    response_object = requests.get(base_URI, params=params)\n",
    "    python_object = response_object.json()\n",
    "\n",
    "    open = python_object['o']\n",
    "    close = python_object['c']\n",
    "    if close > open:\n",
    "        movement = 'UP'\n",
    "    elif close < open:\n",
    "        movement = 'DOWN'\n",
    "    else:\n",
    "        movement = 'FLAT'\n",
    "\n",
    "    return {'open': open, 'close': close, 'movement': movement}\n",
    "    "
   ]
  },
  {
   "cell_type": "code",
   "execution_count": null,
   "id": "a22abb6a",
   "metadata": {},
   "outputs": [],
   "source": [
    "# Test the quote function\n",
    "result = quote('AAPL')\n",
    "print(result)\n"
   ]
  }
 ],
 "metadata": {
  "kernelspec": {
   "display_name": "Python 3",
   "language": "python",
   "name": "python3"
  },
  "language_info": {
   "codemirror_mode": {
    "name": "ipython",
    "version": 3
   },
   "file_extension": ".py",
   "mimetype": "text/x-python",
   "name": "python",
   "nbconvert_exporter": "python",
   "pygments_lexer": "ipython3",
   "version": "3.12.1"
  }
 },
 "nbformat": 4,
 "nbformat_minor": 5
}
