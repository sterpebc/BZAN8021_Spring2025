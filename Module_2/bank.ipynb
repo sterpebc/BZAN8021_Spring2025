{
 "cells": [
  {
   "cell_type": "markdown",
   "id": "6bcbb57c-3074-4dfb-b387-ec50111609f6",
   "metadata": {},
   "source": [
    "# Hands On Using _if_, Day 2"
   ]
  },
  {
   "cell_type": "markdown",
   "id": "07b48b1e-ecb4-4cf7-937a-6fc65f80e876",
   "metadata": {},
   "source": [
    "You will be writing the code for a rudimentary bank account application. Your program will allow you to:\n",
    "* deposit\n",
    "* withdraw\n",
    "* perform a balance inquiry"
   ]
  },
  {
   "cell_type": "markdown",
   "id": "43c0a5fe-6ec6-462b-8c0f-b8ee0faa6075",
   "metadata": {},
   "source": [
    "## Step 0: Set some variables\n",
    "\n",
    "Run the code cell below. Read it, too. :-)"
   ]
  },
  {
   "cell_type": "code",
   "execution_count": null,
   "id": "e2ce19fd-6993-47e1-8115-76936acf9aea",
   "metadata": {},
   "outputs": [],
   "source": [
    "# This cell sets some variables your code\n",
    "# will use. Run this cell once initially.\n",
    "\n",
    "# If you ever want to reset these variables\n",
    "# to their initial vales, run this cell again.\n",
    "\n",
    "balance = 0\n",
    "maximum_deposit = 12000\n",
    "maximum_withdrawal = 5000\n",
    "\n",
    "bank_name = 'Do Not Rob Us'  # Your bank name goes here"
   ]
  },
  {
   "cell_type": "markdown",
   "id": "9e9f40f6-e67a-45fd-9377-cdf0b5cfb2d7",
   "metadata": {},
   "source": [
    "## Step 1: Name Your Bank\n",
    "\n",
    "You are launching a bank -- how easy, right? Your most important first step is not to secure capital or investors. You don't need lawyers or even other bankers.\n",
    "\n",
    "**You need a catchy name.**\n",
    "\n",
    "So, decide on a name for your bank and edit the appropriate variable in the code cell above."
   ]
  },
  {
   "cell_type": "markdown",
   "id": "05880d24-2d09-4a80-ae90-0a7ebcd7e620",
   "metadata": {},
   "source": [
    "## Step 2: The Command Menu\n",
    "\n",
    "The goal of this step is to print a menu of available commands and prompt the user to pick one. The command menu should look something like this:\n",
    "```\n",
    "Welcome to <bank name here>\n",
    "\n",
    "Available Commands:\n",
    "\n",
    "d) Deposit\n",
    "w) Withdraw\n",
    "b) Balance Inquiry\n",
    "q) Quit (do nothing)\n",
    "\n",
    "Your selection? \n",
    "```\n",
    "\n",
    "Using the code cell farther down in the file that contains **Put all of your code in this code cell...**, write code to:\n",
    "* display a menu like the one above\n",
    "* prompt the user to make a choice\n",
    "* assign what the user types to a variable (you choose the name of the variable)"
   ]
  },
  {
   "cell_type": "markdown",
   "id": "63c1d95d-a7eb-4f9c-86bd-e8938b15455c",
   "metadata": {},
   "source": [
    "## Step 3: Build the Scaffolding\n",
    "\n",
    "Now add some code to determine what the user entered and take action on it. You don't have any banking code at the moment, so write some placeholder code that you will gradually replace with real code.\n",
    "\n",
    "For now, write code that does this:\n",
    "* If the user entered `d`, print _You wish to deposit funds_\n",
    "* If the user entered `w`, print _You wish to withdraw funds_\n",
    "* If the user entered `b`, print _You wish to perform a balance inquiry_\n",
    "* If the user entered `q`, print _You wish to quit_\n",
    "* If the user entered anything else, print a message such as _Please enter a valid command_."
   ]
  },
  {
   "cell_type": "markdown",
   "id": "c3c9ba29-5efd-4e29-ac8b-12f6151722c9",
   "metadata": {},
   "source": [
    "## Step 4: Deposit\n",
    "\n",
    "Now write the code to perform a deposit. Your current deposit code just prints a message. Replace that code with code that does the following:\n",
    "\n",
    "* Prompt the user for a deposit amount\n",
    "* Enforce some rules about the deposit amount:\n",
    "  * if the amount is negative or zero, print _Please enter a valid amount_\n",
    "  * if the amount exceeds the maximum allowed deposit amount, print _The maximum allowed deposit is ....._\n",
    "* If the deposit amount is acceptable, update the bank balance"
   ]
  },
  {
   "cell_type": "markdown",
   "id": "43128720-d98f-4a8d-be42-92fb59e299d2",
   "metadata": {},
   "source": [
    "## Step 5: Withdrawal\n",
    "\n",
    "Now write the code to perform a withdrawal. Your current withdrawal code just prints a message. Replace that code with code that does the following:\n",
    "\n",
    "* Prompt the user for a withdrawal amount\n",
    "* Enforce some rules about the withdrawal amount:\n",
    "  * if the amount is negative or zero, print _Please enter a valid amount_\n",
    "  * if the amount exceeds the maximum allowed withdrawal amount, print _The maximum allowed withdrawal is ....._\n",
    "  * if the withdrawal would result in the account being overdrawn, print _A withdrawal of ..... would leave your account overdrawn by ....._\n",
    "* If the withdrawal amount is acceptable, update the bank balance"
   ]
  },
  {
   "cell_type": "markdown",
   "id": "45de8143-f996-4c40-adb3-564d9540a599",
   "metadata": {},
   "source": [
    "## Step 6: Balance Inquiry\n",
    "\n",
    "Now write the code to perform a balance inquiry. Print any appropriate message to inform the user of the current balance."
   ]
  },
  {
   "cell_type": "markdown",
   "id": "d7b7d0c8-adc7-4399-9a4f-3a67318d47ca",
   "metadata": {},
   "source": [
    "## Additional Options\n",
    "\n",
    "You might want to enhance your code in these ways...\n",
    "\n",
    "* **Allow the user some flexibility.** If your code is expecting the user to enter _exactly_ `d`, `w`, `b`, or `q`, modify it to permit either uppercase or lowercase responses.\n",
    "* **Enforce daily limits.** Enforce a daily limit on the _total_ amount of deposits, withdrawals, or both.\n",
    "* **Add a loop.** If you want to look ahead at our next topic, read _Looking Ahead at Loops_ below and use what you learn to make your entire program operate in a loop. That is, after printing the command menu, obtaining the user's selection, and carrying it out, do it all again."
   ]
  },
  {
   "cell_type": "code",
   "execution_count": null,
   "id": "1a091de1-7437-48f7-9e93-9fcb809fd9bd",
   "metadata": {},
   "outputs": [],
   "source": [
    "# Put all of your code in this code cell..."
   ]
  },
  {
   "cell_type": "markdown",
   "id": "f30889e0-110b-4216-8484-d8e4f582d47f",
   "metadata": {},
   "source": [
    "# Looking Ahead at Loops\n",
    "\n",
    "This is optional. It introduces an upcoming topic, _loops_."
   ]
  },
  {
   "cell_type": "markdown",
   "id": "fa09d71c-12e3-4d3b-a39d-cf5bc37d3d88",
   "metadata": {},
   "source": [
    "The bank account code you wrote is one-and-done: it executes one command, and that's it. What you'd really want is to have the program keep going -- it should _repeatedly_ print the menu, obtain your selection, and carry out the command. It should do it forever, in fact, unless your command is `q`, in which case, it should stop."
   ]
  },
  {
   "cell_type": "markdown",
   "id": "968ff4da-2330-44b0-8b57-0f3ee215e915",
   "metadata": {},
   "source": [
    "When you intentionally want to repeat certain lines of code, that is called a _loop_. There's more than one way to do it in Python; one of them is illustrated below."
   ]
  },
  {
   "cell_type": "code",
   "execution_count": null,
   "id": "216a270a-0c41-45d6-81f2-7c2225a2464e",
   "metadata": {},
   "outputs": [],
   "source": [
    "i = 0\n",
    "while i < 5:\n",
    "    print(f'i is now {i}')\n",
    "    i = i + 1\n",
    "print('This is the first line after the loop.')"
   ]
  },
  {
   "cell_type": "markdown",
   "id": "ee63f81a-3943-454e-ab86-1e722ac90938",
   "metadata": {},
   "source": [
    "This is a _while loop_. The expression after _while_ is evaluated. If it is True, the lines indented beneath _while_ are executed. _Then Python goes back and re-evaluates the expression._ If it's still True, the indented lines are executed again. And they will keep being executed as long as the expression remains True.\n",
    "\n",
    "Once the expression evaluates to False, the loop terminates and Python goes to the first line of code after the loop."
   ]
  },
  {
   "cell_type": "markdown",
   "id": "c618c97e-be90-4474-bb7b-556722bbaca9",
   "metadata": {},
   "source": [
    "In the code above, the loop doesn't run forever because, eventually, `i < 5` becomes False. That's because, inside the loop (in the indented lines), we modify `i` by adding 1 to it. Once `i` has the value 5, the loop stops because `5 < 5` is False."
   ]
  },
  {
   "cell_type": "markdown",
   "id": "19c736c9-72fe-4b98-a876-ea5fc71e6102",
   "metadata": {},
   "source": [
    "Sometimes you really do mean for a loop to be infinite -- that is, loop forever -- unless the user decides to stop. To make a loop run forever, just ensure that the expression after `while` is never False. Here's a way to do that (do not run the next code cell)..."
   ]
  },
  {
   "cell_type": "code",
   "execution_count": null,
   "id": "3865a951-ee78-4b0c-9a00-03665605d533",
   "metadata": {},
   "outputs": [],
   "source": [
    "# DO NOT RUN THIS -- IT RUNS FOREVER\n",
    "while True:\n",
    "    print('Styrofoam is forever...')"
   ]
  },
  {
   "cell_type": "markdown",
   "id": "c655ad7f-6ebc-4bcf-b53e-e4c4c192d562",
   "metadata": {},
   "source": [
    "In Python, True is ... wait for it ... True. And True is always True, so the loop above is infinite. But there's a way to break out of it. For example:"
   ]
  },
  {
   "cell_type": "code",
   "execution_count": null,
   "id": "425b6a90-e385-4874-8866-da225704944c",
   "metadata": {},
   "outputs": [],
   "source": [
    "# It's safe to run this cell -- it isn't really infinite.\n",
    "import random\n",
    "\n",
    "while True:\n",
    "    r = random.randint(1, 100)\n",
    "    print(f\"Here's a random number between 1 and 100: {r}\")\n",
    "    response = input('Want another? [y/n] ')\n",
    "    if response == 'n':\n",
    "        break\n",
    "print('OK, all done now.')  "
   ]
  },
  {
   "cell_type": "markdown",
   "id": "dc4400bb-3bb3-42f7-b418-b94e1d0ed86b",
   "metadata": {},
   "source": [
    "The `break` statement means \"end the loop now and proceed to the first line of code after the loop.\""
   ]
  }
 ],
 "metadata": {
  "kernelspec": {
   "display_name": "Python 3 (ipykernel)",
   "language": "python",
   "name": "python3"
  },
  "language_info": {
   "codemirror_mode": {
    "name": "ipython",
    "version": 3
   },
   "file_extension": ".py",
   "mimetype": "text/x-python",
   "name": "python",
   "nbconvert_exporter": "python",
   "pygments_lexer": "ipython3",
   "version": "3.9.12"
  }
 },
 "nbformat": 4,
 "nbformat_minor": 5
}
