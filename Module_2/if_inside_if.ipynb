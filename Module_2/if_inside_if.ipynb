{
 "cells": [
  {
   "cell_type": "markdown",
   "id": "3e115ae7-6ea5-4a71-b85d-0ffb28b24f83",
   "metadata": {},
   "source": [
    "# The `if` statement with more than one question\n",
    "\n",
    "## Suppose we have a program that lets people buy tickets. We need to know:\n",
    "1. **Do you want to buy tickets?**\n",
    "2. **Are your credit card digits valid?**\n",
    "\n",
    "## If both are True, you can buy."
   ]
  },
  {
   "cell_type": "markdown",
   "id": "540f1f4d-e9a9-4e09-ba86-e71113c344a1",
   "metadata": {
    "jupyter": {
     "source_hidden": true
    }
   },
   "source": [
    "## Suppose we have a function that determines the validity of credit card digits.\n",
    "\n",
    "```\n",
    "if credit_card_digits_valid(digit_string):\n",
    "    . . .\n",
    "```\n"
   ]
  },
  {
   "cell_type": "code",
   "execution_count": 1,
   "id": "379be034-4ba2-4957-8c35-85d715c83d65",
   "metadata": {
    "jupyter": {
     "source_hidden": true
    }
   },
   "outputs": [],
   "source": [
    "def credit_card_digits_value(digit_string):\n",
    "    return True"
   ]
  },
  {
   "cell_type": "markdown",
   "id": "ea137133-649c-4c16-a6f9-c1d22117d8d6",
   "metadata": {},
   "source": [
    "## Attempt 1"
   ]
  },
  {
   "cell_type": "code",
   "execution_count": null,
   "id": "49d38b3a-2780-4694-9980-3a5d0e4f498a",
   "metadata": {
    "jupyter": {
     "source_hidden": true
    }
   },
   "outputs": [],
   "source": [
    "response = input('Do you want to buy tickets? [y/n]')\n",
    "digits = input('Enter your credit card number: ')\n",
    "\n",
    "if response == 'y' and credit_card_digits_valid(digits):\n",
    "    print('Proceed with purchase')\n",
    "else:\n",
    "    print()  # ??\n",
    "    "
   ]
  },
  {
   "cell_type": "markdown",
   "id": "d638184c-55b8-4762-91c5-a411428dad33",
   "metadata": {},
   "source": [
    "## Attempt 2"
   ]
  },
  {
   "cell_type": "code",
   "execution_count": null,
   "id": "045e77e7-3f2a-4d2c-b7af-c2b38009603c",
   "metadata": {
    "jupyter": {
     "source_hidden": true
    }
   },
   "outputs": [],
   "source": [
    "response = input('Do you want to buy tickets? [y/n]')\n",
    "\n",
    "if response == 'y':\n",
    "    digits = input('Enter your credit card number: ')\n",
    "    if credit_card_digits_valid(digits):\n",
    "        . . .\n",
    "    else:\n",
    "        . . ."
   ]
  }
 ],
 "metadata": {
  "kernelspec": {
   "display_name": "Python 3 (ipykernel)",
   "language": "python",
   "name": "python3"
  },
  "language_info": {
   "codemirror_mode": {
    "name": "ipython",
    "version": 3
   },
   "file_extension": ".py",
   "mimetype": "text/x-python",
   "name": "python",
   "nbconvert_exporter": "python",
   "pygments_lexer": "ipython3",
   "version": "3.12.6"
  }
 },
 "nbformat": 4,
 "nbformat_minor": 5
}
