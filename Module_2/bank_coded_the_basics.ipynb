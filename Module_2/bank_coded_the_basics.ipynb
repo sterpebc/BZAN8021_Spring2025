{
 "cells": [
  {
   "cell_type": "markdown",
   "id": "6bcbb57c-3074-4dfb-b387-ec50111609f6",
   "metadata": {},
   "source": [
    "# Hands On Using _if_"
   ]
  },
  {
   "cell_type": "code",
   "execution_count": null,
   "id": "1a091de1-7437-48f7-9e93-9fcb809fd9bd",
   "metadata": {},
   "outputs": [],
   "source": [
    "# This code does not implement the \"Additional Options.\"\n",
    "\n",
    "# Copying these variables into this cell so that the whole program is in one place.\n",
    "# Setting the balance to 100 so withdrawals can be tested.\n",
    "balance = 100\n",
    "maximum_deposit = 12000\n",
    "maximum_withdrawal = 5000\n",
    "bank_name = 'Cash R Us'  # Your bank name goes here\n",
    "\n",
    "# The new code begins here.\n",
    "menu = f'''\n",
    "    W E L C O M E   T O   {bank_name}\n",
    "\n",
    "    d) Deposit funds\n",
    "    w) Withdraw funds\n",
    "    b) Balance inquiry\n",
    "    q) Quit\n",
    "'''\n",
    "\n",
    "print(menu)\n",
    "choice = input('Your choice? ')\n",
    "    \n",
    "if choice == 'd':\n",
    "    amount = float(input('Enter amount to deposit: '))\n",
    "    if amount <= 0:\n",
    "        print('Please enter a valid amount.')\n",
    "    elif amount > maximum_deposit:\n",
    "        print(f'The maximum allowed deposit is ${maximum_deposit}.')\n",
    "    else:\n",
    "        balance = balance + amount\n",
    "        print(f'Your new balance is ${balance}.')\n",
    "elif choice == 'w':\n",
    "    amount = float(input('Enter amount to withdraw: '))\n",
    "    if amount <= 0:\n",
    "        print('Please enter a valid amount.')\n",
    "    elif amount > maximum_withdrawal:\n",
    "        print(f'The maximum allowed withdrawal is ${maximum_withdrawal}.')\n",
    "    elif balance - amount < 0:\n",
    "        print(f'A withdrawal of ${amount} would leave your account overdrawn by ${-(balance - amount)}.')\n",
    "    else:\n",
    "        balance = balance - amount\n",
    "        print(f'Your new balance is ${balance}.')\n",
    "elif choice == 'b':\n",
    "    print(f'Your current balance is ${balance}.')\n",
    "else:\n",
    "    print('Please enter one of the choices above.')\n",
    "    "
   ]
  }
 ],
 "metadata": {
  "kernelspec": {
   "display_name": "Python 3",
   "language": "python",
   "name": "python3"
  },
  "language_info": {
   "codemirror_mode": {
    "name": "ipython",
    "version": 3
   },
   "file_extension": ".py",
   "mimetype": "text/x-python",
   "name": "python",
   "nbconvert_exporter": "python",
   "pygments_lexer": "ipython3",
   "version": "3.12.1"
  }
 },
 "nbformat": 4,
 "nbformat_minor": 5
}
