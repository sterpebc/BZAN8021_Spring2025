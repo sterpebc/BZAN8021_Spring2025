{
  "cells": [
    {
      "cell_type": "markdown",
      "metadata": {
        "id": "pvaCwDmA0kxo"
      },
      "source": [
        "# BZAN8021 Coding for Business -- Spring 2025 -- Final Exam Practice Problems"
      ]
    },
    {
      "cell_type": "markdown",
      "metadata": {},
      "source": [
        "## Celebrity of the Year\n",
        "\n",
        "The voting is intense for the Celebrity of the Year award.  People can submit any name. Write a function named _celebrity_ that takes one argument, a list of strings. Assume each element of the list is the name of a celebrity; each element represents one vote for that celebrity. Your function should return a tuple containing two elements: the name of the celebrity who earned the most votes (a string), and the number of votes that celebrity received (an integer). If the argument is an empty list, return the tuple `('', 0)`.\n",
        "\n",
        "You may assume that someone got more votes than anyone else -- no ties."
      ]
    },
    {
      "cell_type": "code",
      "execution_count": null,
      "metadata": {},
      "outputs": [],
      "source": [
        "# Celebrity of the Year code here\n"
      ]
    },
    {
      "cell_type": "markdown",
      "metadata": {},
      "source": [
        "## Math Expression Evaluation\n",
        "\n",
        "Write a function named _evaluate_ that takes one string argument. The argument string will represent an arithmetic expression. Here are some examples:\n",
        "```\n",
        "'2+5'\n",
        "'14.0/7.0'\n",
        "'3*2.5'\n",
        "'4-7'\n",
        "```\n",
        "\n",
        "Your function should evaluate the expression and return the correct number. For example, for the expression `'14.0/7.0'`, your function should return the float `2.0`.\n",
        "\n",
        "### Rules\n",
        "* The only math operators will be `+`, `-`, `*`, and `/`.\n",
        "* The expression is guaranteed not to contain any spaces.\n",
        "* There will only be one math operator in the argument. You won't get `'2+3+4'`, for example.\n",
        "* Everything that isn't an operator can be converted either to `int` or `float`. In other words, the operands of the expression will be numbers.\n",
        "* Don't worry about expressions that would raise an exception. For example, if the expression is '4/0', that will raise a ZeroDivsion exception -- no problem.\n",
        "* You **are not** allowed to use Python's `eval` function.\n",
        "* You **are not** allowed to use any Python modules or functions that we did not cover in class."
      ]
    },
    {
      "cell_type": "code",
      "execution_count": null,
      "metadata": {},
      "outputs": [],
      "source": [
        "# Math Expression Evaluation code here\n"
      ]
    },
    {
      "cell_type": "markdown",
      "metadata": {},
      "source": [
        "## Perfect Words\n",
        "\n",
        "I got the notion of a \"perfect\" word from my daughter's fourth grade teacher. I don't know if a \"perfect\" word is a legitimate thing, but it doesn't matter. Here's the idea.\n",
        "\n",
        "Give each letter of a word a point value based on its position in the alphabet. A is worth 1 point, B is worth 2 points, C is worth 3 ... until you reach Z, which is worth 26 points. Give a word a \"score\" by adding up the points for all its letters. If the score is 100, you have a perfect word.\n",
        "\n",
        "Write a function named _is_perfect_ that takes one argument which you may assume is a string. If the argument is a perfect word, return True, otherwise return False.\n",
        "\n",
        "Assume that the argument word is in lowercase."
      ]
    },
    {
      "cell_type": "code",
      "execution_count": null,
      "metadata": {},
      "outputs": [],
      "source": [
        "# Perfect Words code here\n"
      ]
    },
    {
      "cell_type": "markdown",
      "metadata": {},
      "source": [
        "## ROT-N Encoding\n",
        "\n",
        "You can encode a message in a simple way known as a ROT-N cypher. \"ROT\" is short for \"rotate,\" and that's the key to how the encoding works. Imagine if you could \"rotate\" the alphabet by 1 letter. You would start with the alphabet in its usual order:\n",
        "\n",
        "```a b c d e f g h i j k l m n o p q r s t u v w x y z```\n",
        "\n",
        "After rotating the alphabet by 1 letter, you would have this:\n",
        "\n",
        "```b c d e f g h i j k l m n o p q r s t u v w x y z a```\n",
        "\n",
        "See what happened? Now `b `is in `a'`s position, `c `is in `b`'s position, etc. Where did `a` end up? At the end of the alphabet in `z'`s old position. Because we rotated the alphabet by 1 position, this is a ROT-1 cypher. If you rotate the alphabet by _N_ positions, you have a ROT-N cypher.\n",
        "\n",
        "Write a function named _rot_n_ that takes two arguments which you may assume are a string and an integer. The first argument is the message to encode using the ROT-N technique, and the second argument is _N_, that is, how many positions to rotate the alphabet. Your function should return the encoded message.\n",
        "\n",
        "**Important**\n",
        "* Do not try to \"rotate\" spaces. If the message contains any spaces, just put them in the same position in the encoded message.\n",
        "* Messages will always be in lowercase.\n",
        "* Messages might contain spaces, but they will not contain punctuation or numbers. The only characters you will find in a message are the lowercase letters `a `through `z.`\n",
        "\n",
        "Here are some examples:\n",
        "```\n",
        "Message        N     Encoded message\n",
        "------------------------------------\n",
        "cat dog        1     dbu eph\n",
        "xyz win low    2     zab ykp nqy\n",
        "```\n"
      ]
    },
    {
      "cell_type": "code",
      "execution_count": null,
      "metadata": {},
      "outputs": [],
      "source": [
        "# ROT-N Encoding code here\n"
      ]
    },
    {
      "cell_type": "markdown",
      "metadata": {
        "id": "SJSIkgb0n2if"
      },
      "source": [
        "## Pangrams (10 points)\n",
        "\n",
        "A _pangram_ is a sentence that uses every letter of the alpabet. Write a function named _pangram_ that takes one string argument. Return `True` if the argument uses every letter of the English alphabet; return `False` otherwise. It is OK if some letters are used more than once.\n",
        "\n",
        "Here are some examples:\n",
        "```\n",
        "The quick brown fox jumps over the lazy dog.  --> True\n",
        "The five boxing wizards jump quickly.         --> True\n",
        "Boston College is awesome.                    --> Yes it is, but this is not a pangram. :-)\n",
        "```"
      ]
    },
    {
      "cell_type": "code",
      "execution_count": null,
      "metadata": {
        "id": "okvEFe6Rn2ig"
      },
      "outputs": [],
      "source": [
        "# Code for Pangrams in this cell\n"
      ]
    },
    {
      "cell_type": "markdown",
      "metadata": {
        "id": "CUF13BIqn2ig"
      },
      "source": [
        "## Doubled\n",
        "\n",
        "Write a function named _doubled_ that takes two string arguments. You can choose your own names for the arguments, but suppose they are `s1` and `s2`. Your function must return the number of times string `s1` appears _twice in succession_ in string `s2`. 'Twice in succession' means two times in a row. Make your code case-insensitive, that is, disregard upper/lower case.\n",
        "\n",
        "You may assume that s1 is not longer than s2.\n",
        "\n",
        "Some examples:\n",
        "\n",
        "`doubled('e', 'You need to heed my warning.')` should return 2 because the first argument, `'e'`, appears twice in succession (that is, `'ee'`) 2 times in the second argument: You n**ee**d to h**ee**d my warning.\n",
        "\n",
        "`doubled('e', 'I hollered “Wheeee!” on the rollercoaster.')` should return 3 because `'ee'` appears 3 times:  Wh**ee**ee, Whe**ee**e, and Whee**ee**.\n",
        "\n",
        "`doubled('bam', 'Bambam wants to visit Alabama')` should return 1 because `'bam'` twice in succession (`'bambam'`) appears only 1 time in the second string. Note that upper/lower case does not matter.\n",
        "\n",
        "`doubled('ss', 'Bless this mess')` should return 0 because `'ssss'` does not occur at all in the second string.\n",
        "\n",
        "If either argument is an empty string, return 0."
      ]
    },
    {
      "cell_type": "code",
      "execution_count": null,
      "metadata": {
        "id": "YkqxFfwUn2ih"
      },
      "outputs": [],
      "source": [
        "# Code for Doubled in this cell\n"
      ]
    },
    {
      "cell_type": "markdown",
      "metadata": {
        "id": "V5zzaip3n2ih"
      },
      "source": [
        "## Surf Shop Sale\n",
        "\n",
        "Imagine you decide to have an end-of-season sale at your surf shop: any item with a price less than 50 dollars will be discounted 50%; all other items will remain unchanged. Write a function named _discount_ that accepts one argument which you may assume is a list of lists in the form shown below:\n",
        "\n",
        "`[['Surf Board', 300.00], ['Aloha T-Shirt', 18.00], ['Sunscreen', 8.50], ...]`\n",
        "\n",
        "Each element of the \"outer\" list is a 2-element list containing a string (the name of an item you sell) and a float (the selling price for that item). Do not assume anything about the length of the \"outer\" list; your code must work with a list of any length. Your _discount_ function must do two things:\n",
        "\n",
        "* _Modify the argument_ to change the price of every item that should be discounted to its new sale price. (Recall that lists are mutable, so you can modify the argument and that will change the list you were given.)\n",
        "* Return the count of how many prices you changed.\n"
      ]
    },
    {
      "cell_type": "code",
      "execution_count": null,
      "metadata": {
        "id": "v1DMSNIQn2ih"
      },
      "outputs": [],
      "source": [
        "# Code for Surf Shop Sale in this cell\n"
      ]
    }
  ],
  "metadata": {
    "colab": {
      "provenance": []
    },
    "kernelspec": {
      "display_name": "base",
      "language": "python",
      "name": "python3"
    },
    "language_info": {
      "codemirror_mode": {
        "name": "ipython",
        "version": 3
      },
      "file_extension": ".py",
      "mimetype": "text/x-python",
      "name": "python",
      "nbconvert_exporter": "python",
      "pygments_lexer": "ipython3",
      "version": "3.11.3"
    }
  },
  "nbformat": 4,
  "nbformat_minor": 0
}
