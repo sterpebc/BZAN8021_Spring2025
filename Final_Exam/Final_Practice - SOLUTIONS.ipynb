{
  "cells": [
    {
      "cell_type": "markdown",
      "metadata": {
        "id": "pvaCwDmA0kxo"
      },
      "source": [
        "# BZAN8021 Coding for Business -- Spring 2025 -- Final Exam Practice Problems SOLUTIONS"
      ]
    },
    {
      "cell_type": "markdown",
      "metadata": {},
      "source": [
        "## Celebrity of the Year\n",
        "\n",
        "The voting is intense for the Celebrity of the Year award.  People can submit any name. Write a function named _celebrity_ that takes one argument, a list of strings. Assume each element of the list is the name of a celebrity; each element represents one vote for that celebrity. Your function should return a tuple containing two elements: the name of the celebrity who earned the most votes (a string), and the number of votes that celebrity received (an integer). If the argument is an empty list, return the tuple `('', 0)`.\n",
        "\n",
        "You may assume that someone got more votes than anyone else -- no ties."
      ]
    },
    {
      "cell_type": "code",
      "execution_count": null,
      "metadata": {},
      "outputs": [],
      "source": [
        "# Celebrity of the Year code here\n",
        "def celebrity(list_of_strings):\n",
        "    d = {}\n",
        "    max_votes = 0\n",
        "    winner = ''\n",
        "\n",
        "    for name in list_of_strings:\n",
        "        try:\n",
        "            d[name] += 1\n",
        "        except KeyError:\n",
        "            d[name] = 1\n",
        "\n",
        "        if d[name] > max_votes:\n",
        "            max_votes = d[name]\n",
        "            winner = name\n",
        "\n",
        "    # After the loop, winner contains the name of the celeb who\n",
        "    # got the most votes, and max_votes contains how many votes.\n",
        "\n",
        "    return (winner, max_votes)\n"
      ]
    },
    {
      "cell_type": "code",
      "execution_count": null,
      "metadata": {},
      "outputs": [],
      "source": [
        "# Test function celebrity\n",
        "names = ['Abc', 'Def', 'Def', 'Abc', 'Ghi', 'Ghi', 'Def', 'Abc', 'Abc']\n",
        "result = celebrity(names)\n",
        "print(result)  # Expecting ('Abc', 4)"
      ]
    },
    {
      "cell_type": "markdown",
      "metadata": {},
      "source": [
        "## Math Expression Evaluation\n",
        "\n",
        "Write a function named _evaluate_ that takes one string argument. The argument string will represent an arithmetic expression. Here are some examples:\n",
        "```\n",
        "'2+5'\n",
        "'14.0/7.0'\n",
        "'3*2.5'\n",
        "'4-7'\n",
        "```\n",
        "\n",
        "Your function should evaluate the expression and return the correct number. For example, for the expression `'14.0/7.0'`, your function should return the float `2.0`.\n",
        "\n",
        "### Rules\n",
        "* The only math operators will be `+`, `-`, `*`, and `/`.\n",
        "* The expression is guaranteed not to contain any spaces.\n",
        "* There will only be one math operator in the argument. You won't get `'2+3+4'`, for example.\n",
        "* Everything that isn't an operator can be converted either to `int` or `float`. In other words, the operands of the expression will be numbers.\n",
        "* Don't worry about expressions that would raise an exception. For example, if the expression is '4/0', that will raise a ZeroDivsion exception -- no problem.\n",
        "* You **are not** allowed to use Python's `eval` function.\n",
        "* You **are not** allowed to use any Python modules or functions that we did not cover in class."
      ]
    },
    {
      "cell_type": "code",
      "execution_count": null,
      "metadata": {},
      "outputs": [],
      "source": [
        "# Math Expression Evaluation code here\n",
        "# This can be done with less code, but that requires techniques we didn't cover in class.\n",
        "# Here's a way to do it using only what we did cover.\n",
        "\n",
        "def evaluate(expression):\n",
        "    for operator in ['+', '-', '*', '/']:\n",
        "        if operator in expression:\n",
        "            split_result = expression.split(operator)\n",
        "            if len(split_result) == 2:  # Only True if the operator was present in the expression\n",
        "                try:\n",
        "                    operand1 = int(split_result[0])\n",
        "                except:\n",
        "                    operand1 = float(split_result[0])\n",
        "                try:\n",
        "                    operand2 = int(split_result[1])\n",
        "                except:\n",
        "                    operand2 = float(split_result[1])\n",
        "\n",
        "                if operator == '+':\n",
        "                    return operand1 + operand2\n",
        "                elif operator == '-':\n",
        "                    return operand1 - operand2\n",
        "                elif operator == '*':\n",
        "                    return operand1 * operand2\n",
        "                else:\n",
        "                    return operand1 / operand2\n"
      ]
    },
    {
      "cell_type": "code",
      "execution_count": null,
      "metadata": {},
      "outputs": [],
      "source": [
        "# Test function evaluate\n",
        "print(evaluate('2+5'))\n",
        "print(evaluate('14.0/7.0'))\n",
        "print(evaluate('3*2.5'))\n",
        "print(evaluate('4-7'))"
      ]
    },
    {
      "cell_type": "markdown",
      "metadata": {},
      "source": [
        "## Perfect Words\n",
        "\n",
        "I got the notion of a \"perfect\" word from my daughter's fourth grade teacher. I don't know if a \"perfect\" word is a legitimate thing, but it doesn't matter. Here's the idea.\n",
        "\n",
        "Give each letter of a word a point value based on its position in the alphabet. A is worth 1 point, B is worth 2 points, C is worth 3 ... until you reach Z, which is worth 26 points. Give a word a \"score\" by adding up the points for all its letters. If the score is 100, you have a perfect word.\n",
        "\n",
        "Write a function named _is_perfect_ that takes one argument which you may assume is a string. If the argument is a perfect word, return True, otherwise return False.\n",
        "\n",
        "Assume that the argument word is in lowercase."
      ]
    },
    {
      "cell_type": "code",
      "execution_count": null,
      "metadata": {},
      "outputs": [],
      "source": [
        "# Perfect Words code here\n",
        "def perfect(word):\n",
        "    alphabet = 'abcdefghijklmnopqrstuvwxyz'\n",
        "\n",
        "    points = 0\n",
        "    for letter in word:\n",
        "        # Point value of letter is 1 more than its index in the alphabet list\n",
        "        points = points + alphabet.index(letter) + 1\n",
        "\n",
        "    return points == 100"
      ]
    },
    {
      "cell_type": "code",
      "execution_count": null,
      "metadata": {},
      "outputs": [],
      "source": [
        "# Test function perfect\n",
        "\n",
        "print(perfect('guttered'))  # Expect True\n",
        "print(perfect('thumbnail'))  # Expect True\n",
        "print(perfect('saintly'))  # Expect True\n",
        "print(perfect('adulthood'))  # Expect True\n"
      ]
    },
    {
      "cell_type": "markdown",
      "metadata": {},
      "source": [
        "## ROT-N Encoding\n",
        "\n",
        "You can encode a message in a simple way known as a ROT-N cypher. \"ROT\" is short for \"rotate,\" and that's the key to how the encoding works. Imagine if you could \"rotate\" the alphabet by 1 letter. You would start with the alphabet in its usual order:\n",
        "\n",
        "```a b c d e f g h i j k l m n o p q r s t u v w x y z```\n",
        "\n",
        "After rotating the alphabet by 1 letter, you would have this:\n",
        "\n",
        "```b c d e f g h i j k l m n o p q r s t u v w x y z a```\n",
        "\n",
        "See what happened? Now `b `is in `a'`s position, `c `is in `b`'s position, etc. Where did `a` end up? At the end of the alphabet in `z'`s old position. Because we rotated the alphabet by 1 position, this is a ROT-1 cypher. If you rotate the alphabet by _N_ positions, you have a ROT-N cypher.\n",
        "\n",
        "Write a function named _rot_n_ that takes two arguments which you may assume are a string and an integer. The first argument is the message to encode using the ROT-N technique, and the second argument is _N_, that is, how many positions to rotate the alphabet. Your function should return the encoded message.\n",
        "\n",
        "**Important**\n",
        "* Do not try to \"rotate\" spaces. If the message contains any spaces, just put them in the same position in the encoded message.\n",
        "* Messages will always be in lowercase.\n",
        "* Messages might contain spaces, but they will not contain punctuation or numbers. The only characters you will find in a message are the lowercase letters `a `through `z.`\n",
        "\n",
        "Here are some examples:\n",
        "```\n",
        "Message        N     Encoded message\n",
        "------------------------------------\n",
        "cat dog        1     dbu eph\n",
        "xyz win low    2     zab ykp nqy\n",
        "```\n"
      ]
    },
    {
      "cell_type": "code",
      "execution_count": null,
      "metadata": {},
      "outputs": [],
      "source": [
        "# ROT-N Encoding code here\n",
        "def rotate(message, n):\n",
        "    alphabet = 'abcdefghijklmnopqrstuvwxyz'\n",
        "    encoded = ''\n",
        "\n",
        "    for character in message:\n",
        "        if character != ' ':\n",
        "            rotated_index = (alphabet.index(character) + n) % 26\n",
        "            character = alphabet[rotated_index]\n",
        "        encoded = encoded + character\n",
        "\n",
        "    return encoded"
      ]
    },
    {
      "cell_type": "code",
      "execution_count": null,
      "metadata": {},
      "outputs": [],
      "source": [
        "# Test function rotate\n",
        "print(rotate('cat dog', 1))      # Expect dbu eph\n",
        "print(rotate('xyz win low', 2))  # Expect zab ykp nqy\n",
        "print(rotate('wxyz', 4))         # Expect abcd"
      ]
    },
    {
      "cell_type": "markdown",
      "metadata": {
        "id": "SJSIkgb0n2if"
      },
      "source": [
        "## Pangrams (10 points)\n",
        "\n",
        "A _pangram_ is a sentence that uses every letter of the alpabet. Write a function named _pangram_ that takes one string argument. Return `True` if the argument uses every letter of the English alphabet; return `False` otherwise. It is OK if some letters are used more than once.\n",
        "\n",
        "Here are some examples:\n",
        "```\n",
        "The quick brown fox jumps over the lazy dog.  --> True\n",
        "The five boxing wizards jump quickly.         --> True\n",
        "Boston College is awesome.                    --> Yes it is, but this is not a pangram. :-)\n",
        "```"
      ]
    },
    {
      "cell_type": "code",
      "execution_count": null,
      "metadata": {
        "id": "okvEFe6Rn2ig"
      },
      "outputs": [],
      "source": [
        "# Code for Pangrams in this cell\n",
        "def pangram(s):\n",
        "    alphabet = list('abcdefghijklmnopqrstuvwxyz')\n",
        "\n",
        "    s = s.lower()\n",
        "    for char in s:\n",
        "        try:\n",
        "            index = alphabet.index(char)\n",
        "            alphabet.pop(index)\n",
        "        except:\n",
        "            pass # We already deleted this character, or it's punctuation\n",
        "\n",
        "    # If alphabet has no elements remaining, s was a pangram\n",
        "    return len(alphabet) == 0\n"
      ]
    },
    {
      "cell_type": "markdown",
      "metadata": {
        "id": "CUF13BIqn2ig"
      },
      "source": [
        "## Doubled\n",
        "\n",
        "Write a function named _doubled_ that takes two string arguments. You can choose your own names for the arguments, but suppose they are `s1` and `s2`. Your function must return the number of times string `s1` appears _twice in succession_ in string `s2`. 'Twice in succession' means two times in a row. Make your code case-insensitive, that is, disregard upper/lower case.\n",
        "\n",
        "You may assume that s1 is not longer than s2.\n",
        "\n",
        "Some examples:\n",
        "\n",
        "`doubled('e', 'You need to heed my warning.')` should return 2 because the first argument, `'e'`, appears twice in succession (that is, `'ee'`) 2 times in the second argument: You n**ee**d to h**ee**d my warning.\n",
        "\n",
        "`doubled('e', 'I hollered “Wheeee!” on the rollercoaster.')` should return 3 because `'ee'` appears 3 times:  Wh**ee**ee, Whe**ee**e, and Whee**ee**.\n",
        "\n",
        "`doubled('bam', 'Bambam wants to visit Alabama')` should return 1 because `'bam'` twice in succession (`'bambam'`) appears only 1 time in the second string. Note that upper/lower case does not matter.\n",
        "\n",
        "`doubled('ss', 'Bless this mess')` should return 0 because `'ssss'` does not occur at all in the second string.\n",
        "\n",
        "If either argument is an empty string, return 0."
      ]
    },
    {
      "cell_type": "code",
      "execution_count": null,
      "metadata": {
        "id": "YkqxFfwUn2ih"
      },
      "outputs": [],
      "source": [
        "# Code for Doubled in this cell\n",
        "def doubled(s1, s2):\n",
        "    if len(s1) == 0 or len(s2) == 0:\n",
        "        return 0\n",
        "    \n",
        "    count = 0\n",
        "    index = 0\n",
        "\n",
        "    s1 = s1.lower()\n",
        "    s2 = s2.lower()\n",
        "\n",
        "    s1_doubled = s1 + s1\n",
        "    length = len(s1_doubled)\n",
        "\n",
        "    while index <= len(s2) - length:\n",
        "        if s2[index:index+length] == s1_doubled:\n",
        "            count += 1\n",
        "        index += 1\n",
        "    \n",
        "    return count\n"
      ]
    },
    {
      "cell_type": "markdown",
      "metadata": {
        "id": "V5zzaip3n2ih"
      },
      "source": [
        "## Surf Shop Sale\n",
        "\n",
        "Imagine you decide to have an end-of-season sale at your surf shop: any item with a price less than 50 dollars will be discounted 50%; all other items will remain unchanged. Write a function named _discount_ that accepts one argument which you may assume is a list of lists in the form shown below:\n",
        "\n",
        "`[['Surf Board', 300.00], ['Aloha T-Shirt', 18.00], ['Sunscreen', 8.50], ...]`\n",
        "\n",
        "Each element of the \"outer\" list is a 2-element list containing a string (the name of an item you sell) and a float (the selling price for that item). Do not assume anything about the length of the \"outer\" list; your code must work with a list of any length. Your _discount_ function must do two things:\n",
        "\n",
        "* _Modify the argument_ to change the price of every item that should be discounted to its new sale price. (Recall that lists are mutable, so you can modify the argument and that will change the list you were given.)\n",
        "* Return the count of how many prices you changed.\n"
      ]
    },
    {
      "cell_type": "code",
      "execution_count": null,
      "metadata": {
        "id": "v1DMSNIQn2ih"
      },
      "outputs": [],
      "source": [
        "# Code for Surf Shop Sale in this cell\n",
        "def discount(product_list):\n",
        "    number_changed = 0\n",
        "\n",
        "    for item in product_list:\n",
        "        if item[1] < 50:\n",
        "            item[1] = item[1] / 2   # Discount it by 50%\n",
        "            number_changed += 1\n",
        "    \n",
        "    return number_changed\n"
      ]
    }
  ],
  "metadata": {
    "colab": {
      "provenance": []
    },
    "kernelspec": {
      "display_name": "base",
      "language": "python",
      "name": "python3"
    },
    "language_info": {
      "codemirror_mode": {
        "name": "ipython",
        "version": 3
      },
      "file_extension": ".py",
      "mimetype": "text/x-python",
      "name": "python",
      "nbconvert_exporter": "python",
      "pygments_lexer": "ipython3",
      "version": "3.11.3"
    }
  },
  "nbformat": 4,
  "nbformat_minor": 0
}
